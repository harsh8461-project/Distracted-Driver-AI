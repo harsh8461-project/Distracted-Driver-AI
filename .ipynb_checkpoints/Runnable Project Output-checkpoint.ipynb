{
 "cells": [
  {
   "cell_type": "markdown",
   "id": "b15bf29f",
   "metadata": {},
   "source": [
    "# First step we install and import all the required files"
   ]
  },
  {
   "cell_type": "code",
   "execution_count": 1,
   "id": "b29f62a9",
   "metadata": {},
   "outputs": [],
   "source": [
    "import tensorflow as tf\n",
    "import cv2\n",
    "import os\n",
    "import matplotlib.pyplot as plt\n",
    "import numpy as np"
   ]
  },
  {
   "cell_type": "markdown",
   "id": "3fb55ec7",
   "metadata": {},
   "source": [
    "# Second step We load the already developed trained model here so that we can predict using it."
   ]
  },
  {
   "cell_type": "code",
   "execution_count": 2,
   "id": "dfa470ea",
   "metadata": {},
   "outputs": [],
   "source": [
    "new_model = tf.keras.models.load_model('my_model.h5') #loading my previously made model"
   ]
  },
  {
   "cell_type": "markdown",
   "id": "e1231b4d",
   "metadata": {},
   "source": [
    "# Third step is to actually run the Whole code which will SHOW us our result."
   ]
  },
  {
   "cell_type": "markdown",
   "id": "b4c5eacc",
   "metadata": {},
   "source": [
    "# Alarm system and timer for distracted driver and sleepy Eyes"
   ]
  },
  {
   "cell_type": "code",
   "execution_count": 5,
   "id": "44672068",
   "metadata": {},
   "outputs": [
    {
     "name": "stdout",
     "output_type": "stream",
     "text": [
      "0.218732 --> Closed eyes\n",
      "0.4393423 --> Open eyes\n",
      "0.5308806 --> Open eyes\n",
      "0.63015616 --> Open eyes\n",
      "0.9712099 --> Open eyes\n",
      "0.82298255 --> Open eyes\n",
      "0.8478546 --> Open eyes\n",
      "0.14867455 --> Closed eyes\n",
      "0.6453222 --> Open eyes\n",
      "0.48763564 --> Open eyes\n",
      "0.55742717 --> Open eyes\n",
      "0.5412797 --> Open eyes\n",
      "0.6444651 --> Open eyes\n",
      "0.96716714 --> Open eyes\n",
      "0.4947472 --> Open eyes\n",
      "0.961231 --> Open eyes\n",
      "0.8155403 --> Open eyes\n",
      "0.98389673 --> Open eyes\n",
      "0.6495104 --> Open eyes\n",
      "0.5166518 --> Open eyes\n",
      "0.16380191 --> Closed eyes\n",
      "0.70465297 --> Open eyes\n",
      "0.72650343 --> Open eyes\n",
      "0.55189425 --> Open eyes\n",
      "0.29228526 --> Closed eyes\n",
      "0.62111014 --> Open eyes\n",
      "0.5556825 --> Open eyes\n",
      "0.20685789 --> Closed eyes\n",
      "0.2984115 --> Closed eyes\n",
      "0.24691778 --> Closed eyes\n",
      "Driver Distracted\n",
      "eyes are not detected\n",
      "0.24691778 --> Closed eyes\n"
     ]
    }
   ],
   "source": [
    "import winsound\n",
    "frequency = 500\n",
    "duration = 100\n",
    "import numpy as np\n",
    "import cv2\n",
    "counter = 0\n",
    "counterno=0\n",
    "font = cv2.FONT_HERSHEY_SIMPLEX\n",
    "path = \"haarcascade_frontalface_default.xml\"\n",
    "faceCascade = cv2.CascadeClassifier(cv2.data.haarcascades + 'haarcascade_frontalface_default.xml')\n",
    "\n",
    "cap = cv2.VideoCapture(0)\n",
    "\n",
    "\n",
    "while True:\n",
    "    ret,frame = cap.read()\n",
    "    eye_cascade = cv2.CascadeClassifier(cv2.data.haarcascades + 'haarcascade_eye.xml')\n",
    "    gray = cv2.cvtColor(frame, cv2.COLOR_BGR2GRAY)\n",
    "    #print(faceCascade.empty())\n",
    "    faces = faceCascade.detectMultiScale(gray,1.1,4)\n",
    "    eyes = eye_cascade.detectMultiScale(gray,1.1,4)\n",
    "    \n",
    "    #define a status bar below\n",
    "    x1,h1 = 0,75\n",
    "    w1=frame.shape[1]\n",
    "    y1=frame.shape[0]-75\n",
    "    cv2.rectangle(frame, (x1,y1), (x1 + w1, y1 + h1),(0,0,0), -1)\n",
    "    if len(faces) == 0:\n",
    "        counterno = counterno + 1\n",
    "        status = \"Driver Distracted\"\n",
    "        cv2.putText(frame,status,(x1 + int(w1/3) ,y1 + int(h1/2)+20),font,0.7,(255,0,0),2,cv2.LINE_4)\n",
    "        print(\"Driver Distracted\")\n",
    "        if counterno>5:\n",
    "                cv2.putText(frame, 'Driver Distracted!', (x1 + w1-200,y1 + int(h1/2)), cv2.FONT_HERSHEY_SIMPLEX,0.7, (0,0,255),2)\n",
    "                print(\"Playing the file 'alarm2.wav'\")\n",
    "                winsound.PlaySound('alarm2.wav', winsound.SND_FILENAME)    \n",
    "                counterno = 0\n",
    "    else:\n",
    "            for x,y,w,h in faces:\n",
    "                roi_gray = gray[y:y+h, x:x+w]\n",
    "                roi_color = frame[y:y+h, x:x+w]\n",
    "                cv2.rectangle(frame, (x,y), (x+w,y+h), (0,255,0), 2)\n",
    "                eyess = eye_cascade.detectMultiScale(roi_gray)\n",
    "                if len(eyess) == 0:\n",
    "                    status = \"eyes not detected\"\n",
    "                    cv2.putText(frame,status,(x1 + int(w1/3) ,y1 + int(h1/2)+20),font,0.7,(255,0,0),2,cv2.LINE_4)\n",
    "                    print(\"eyes are not detected\")\n",
    "            \n",
    "                else:\n",
    "                    for (ex,ey,ew,eh) in eyess:\n",
    "                        eyes_roi = roi_color[ey:ey + eh, ex:ex + ew]\n",
    "                        cv2.rectangle(frame, (x+ex,y+ey), (x+ex+ew,y+ey+eh), (0,0,255), 2)\n",
    "            final_image = cv2.resize(eyes_roi, (224,224))\n",
    "            final_image = np.expand_dims(final_image,axis = 0) #need fourth dimension\n",
    "            final_image = final_image/255.0\n",
    "    \n",
    "            predictions = new_model.predict(final_image)\n",
    "    \n",
    "    \n",
    "            if(predictions[0][0]>0.3):\n",
    "                counter = 0\n",
    "                status = \"Open eyes\"\n",
    "                cv2.putText(frame,status,(x1 + int(w1/3) ,y1 + int(h1/2)),font,0.7,(0,255,0),2,cv2.LINE_4)\n",
    "                cv2.putText(frame, 'Active', (x1 + 2,y1 + int(h1/2)), cv2.FONT_HERSHEY_SIMPLEX,0.7, (0,255,0),2)\n",
    "            else:\n",
    "                counter = counter + 1\n",
    "                status = \"Closed eyes\"\n",
    "                cv2.putText(frame,status,(x1 + int(w1/3) ,y1 + int(h1/2)),font,0.7,(0,255,0),2,cv2.LINE_4)\n",
    "                if counter>5:\n",
    "                    cv2.putText(frame, 'Sleep Alert!', (x1 + w1-200,y1 + int(h1/2)), cv2.FONT_HERSHEY_SIMPLEX,0.7, (0,0,255),2)\n",
    "                    print(\"Playing the file 'alarm.wav'\")\n",
    "                    winsound.PlaySound('alarm.wav', winsound.SND_FILENAME)    \n",
    "                    counter = 0\n",
    "            \n",
    "            print(predictions[0][0],\"-->\",status)\n",
    "    cv2.imshow('Drowsiness Detection Tutorial',frame)\n",
    "    \n",
    "    if cv2.waitKey(2) & 0xFF == ord('q'):\n",
    "        break\n",
    "        \n",
    "cap.release()\n",
    "cv2.destroyAllWindows()"
   ]
  },
  {
   "cell_type": "code",
   "execution_count": null,
   "id": "bad478e8",
   "metadata": {},
   "outputs": [],
   "source": []
  }
 ],
 "metadata": {
  "kernelspec": {
   "display_name": "Python 3",
   "language": "python",
   "name": "python3"
  },
  "language_info": {
   "codemirror_mode": {
    "name": "ipython",
    "version": 3
   },
   "file_extension": ".py",
   "mimetype": "text/x-python",
   "name": "python",
   "nbconvert_exporter": "python",
   "pygments_lexer": "ipython3",
   "version": "3.8.8"
  }
 },
 "nbformat": 4,
 "nbformat_minor": 5
}
